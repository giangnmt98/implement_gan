{
  "nbformat": 4,
  "nbformat_minor": 0,
  "metadata": {
    "colab": {
      "provenance": [],
      "gpuType": "T4"
    },
    "kernelspec": {
      "name": "python3",
      "display_name": "Python 3"
    },
    "language_info": {
      "name": "python"
    },
    "accelerator": "GPU"
  },
  "cells": [
    {
      "cell_type": "code",
      "source": [
        "import matplotlib.pyplot as plt\n",
        "import numpy as np\n",
        "import tensorflow as tf\n",
        "from tensorflow.keras.datasets.fashion_mnist import load_data\n",
        "from tensorflow.keras.callbacks import Callback\n"
      ],
      "metadata": {
        "id": "DB5pkMuMxnu9"
      },
      "execution_count": null,
      "outputs": []
    },
    {
      "cell_type": "code",
      "source": [
        "from tensorflow.keras.layers import Input, Conv2D, Conv2DTranspose, Dense, LeakyReLU, Embedding, Concatenate, Reshape, Flatten, Dropout\n",
        "from tensorflow.keras.models import Model\n",
        "from tensorflow.keras.optimizers import Adam\n",
        "\n",
        "def _discriminator(input_shape=(28, 28, 1), n_classes=10):\n",
        "    # 1. Khởi tạo nhánh input là y_label\n",
        "    y_label = Input(shape=(1,))\n",
        "    # Embedding y_label và chiếu lên không gian véc tơ 50 dimension.\n",
        "    y_embedding = Embedding(n_classes, 50)(y_label)\n",
        "    # Gia tăng kích thước y_embedding thông qua linear projection\n",
        "    n_shape = input_shape[0] * input_shape[1]\n",
        "    li = Dense(n_shape)(y_embedding)\n",
        "    li = Reshape((input_shape[0], input_shape[1], 1))(li)\n",
        "\n",
        "    # 2. Khởi tạo nhánh input là image\n",
        "    inpt_image = Input(shape=input_shape)\n",
        "\n",
        "    # 3. Concate y_label và image\n",
        "    concat = Concatenate()([inpt_image, li])\n",
        "    # 4. Feature extractor thông qua CNN blocks:\n",
        "    fe = Conv2D(128, (3, 3), strides=(2, 2), padding='same')(concat)\n",
        "    fe = LeakyReLU(alpha=0.2)(fe)\n",
        "\n",
        "    fe = Conv2D(128, (3, 3), strides=(2, 2), padding='same')(fe)\n",
        "    fe = LeakyReLU(alpha=0.2)(fe)\n",
        "\n",
        "    # Flatten output\n",
        "    fe = Flatten()(fe)\n",
        "    fe = Dropout(0.4)(fe)\n",
        "    out_layer = Dense(1, activation='sigmoid')(fe)\n",
        "\n",
        "    # Khởi tạo model\n",
        "    model = Model([inpt_image, y_label], out_layer)\n",
        "    opt = Adam(learning_rate=0.0002, beta_1=0.5)\n",
        "    model.compile(loss='binary_crossentropy', optimizer=opt, metrics=['accuracy'])\n",
        "    return model"
      ],
      "metadata": {
        "id": "7c5gHGMfmsPP"
      },
      "execution_count": null,
      "outputs": []
    },
    {
      "cell_type": "code",
      "source": [
        "def _generator(latent_dim=100, n_classes=10):\n",
        "  # 1. Khởi tạo nhánh đầu vào là y_label\n",
        "  y_label = Input(shape=(1,))\n",
        "  # embedding véc tơ categorical đầu vào\n",
        "  li = Embedding(n_classes, 50)(y_label)\n",
        "  n_shape = 7 * 7\n",
        "  li = Dense(n_shape)(li)\n",
        "  # reshape lại đầu vào về kích thước 7x7x1 như một channel bổ sung.\n",
        "  li = Reshape((7, 7, 1))(li)\n",
        "\n",
        "  # 2. Khởi tạo nhánh đầu vào là véc tơ noise x\n",
        "  in_lat = Input(shape=(latent_dim,))\n",
        "  n_shape = 128 * 7 * 7\n",
        "  gen = Dense(n_shape)(in_lat)\n",
        "  gen = LeakyReLU(alpha=0.2)(gen)\n",
        "  # Biến đổi về kích thước 7x7x128\n",
        "  gen = Reshape((7, 7, 128))(gen)\n",
        "\n",
        "  # 3. Merge nhánh 1 và nhánh 2\n",
        "  merge = Concatenate()([gen, li])\n",
        "\n",
        "  # 4. Sử dụng Conv2DTranspose để giải chập về kích thước ban đầu.\n",
        "  gen = Conv2DTranspose(128, (4,4), strides=(2,2), padding='same')(merge)\n",
        "  gen = LeakyReLU(alpha=0.2)(gen)\n",
        "\n",
        "  gen = Conv2DTranspose(128, (4,4), strides=(2,2), padding='same')(gen)\n",
        "  gen = LeakyReLU(alpha=0.2)(gen)\n",
        "  # output\n",
        "  out_layer = Conv2D(1, (7,7), activation='tanh', padding='same')(gen)\n",
        "  # model\n",
        "  model = Model([in_lat, y_label], out_layer)\n",
        "  return model"
      ],
      "metadata": {
        "id": "eRHlC3hEmwQv"
      },
      "execution_count": null,
      "outputs": []
    },
    {
      "cell_type": "code",
      "source": [
        "def _cGAN(g_model, d_model):\n",
        "\t# Do cGAN được sử dụng để huấn luyện generator nên discriminator sẽ được đóng băng\n",
        "\td_model.trainable = False\n",
        "\t# Lấy đầu vào của generator model bao gồm véc tơ noise và nhãn\n",
        "\tgen_noise, gen_label = g_model.input\n",
        "\t# Lấy ảnh sinh ra từ generator model\n",
        "\tgen_output = g_model.output\n",
        "\t# Truyền output và nhãn của mô hình generator vào mô hình discriminator\n",
        "\tgan_output = d_model([gen_output, gen_label])\n",
        "\t# Khởi tạo mô hình cGAN\n",
        "\tmodel = Model([gen_noise, gen_label], gan_output)\n",
        "\topt = Adam(learning_rate=0.0002, beta_1=0.5)\n",
        "\tmodel.compile(loss='binary_crossentropy', optimizer=opt)\n",
        "\treturn model"
      ],
      "metadata": {
        "id": "haSey2NOmyMW"
      },
      "execution_count": null,
      "outputs": []
    },
    {
      "cell_type": "code",
      "source": [
        "# Hàm chuẩn hóa dữ liệu huấn luyện\n",
        "def _standardize_data(X_train, y_train):\n",
        "\tX = np.expand_dims(X_train, axis=-1)\n",
        "\tX = X.astype('float32')\n",
        "  # chuẩn hóa dữ liệu về khoảng [-1, 1]\n",
        "\tX = (X - 127.5) / 127.5\n",
        "\treturn [X, y_train]"
      ],
      "metadata": {
        "id": "OgdUG8Bwm0L3"
      },
      "execution_count": null,
      "outputs": []
    },
    {
      "cell_type": "code",
      "source": [
        "# Sinh ra các véc tơ noise trong không gian latent space làm đầu vào cho generator\n",
        "def _generate_latent_points(latent_dim, n_samples, n_classes=10):\n",
        "\t# Khởi tạo các points trong latent space\n",
        "\tx_input = np.random.randn(latent_dim * n_samples)\n",
        "\t# reshape thành batch để feed vào generator.\n",
        "\tz_input = x_input.reshape(n_samples, latent_dim)\n",
        "\t# khởi tạo labels một cách ngẫu nhiên.\n",
        "\tlabels = np.random.randint(0, n_classes, n_samples)\n",
        "\treturn [z_input, labels]"
      ],
      "metadata": {
        "id": "7z8DPHZsnBtg"
      },
      "execution_count": null,
      "outputs": []
    },
    {
      "cell_type": "code",
      "source": [
        "# Lựa chọn ngẫu nhiên các dữ liệu huấn luyện\n",
        "def _generate_real_samples(dataset, n_samples):\n",
        "    images, labels = dataset\n",
        "    indices = tf.random.uniform(shape=(n_samples,), minval=0, maxval=images.shape[0], dtype=tf.int32)\n",
        "    X, labels = tf.gather(images, indices), tf.gather(labels, indices)\n",
        "    y = tf.ones((n_samples, 1))\n",
        "    return [X, labels], y"
      ],
      "metadata": {
        "id": "wA9oT40qw4EW"
      },
      "execution_count": null,
      "outputs": []
    },
    {
      "cell_type": "code",
      "source": [
        "# Sử dụng generator để sinh ra n_samples ảnh fake.\n",
        "def _generate_fake_samples(generator, latent_dim, n_samples):\n",
        "    z_input, labels_input = _generate_latent_points(latent_dim, n_samples)\n",
        "    z_input = tf.constant(z_input)\n",
        "    labels_input = tf.constant(labels_input)\n",
        "    images = generator([z_input, labels_input], training=False)\n",
        "    y = tf.zeros((n_samples, 1))\n",
        "    return [images, labels_input], y"
      ],
      "metadata": {
        "id": "SOossAXYw1nV"
      },
      "execution_count": null,
      "outputs": []
    },
    {
      "cell_type": "code",
      "source": [
        "def on_epoch_end(generator, num_img, latent_dim, epoch):\n",
        "    z_input, labels_input = _generate_latent_points(latent_dim, num_img)\n",
        "    z_input = tf.constant(z_input)\n",
        "    labels_input = tf.constant(labels_input)\n",
        "    generated_images = generator([z_input, labels_input], training=False)\n",
        "    generated_images = (generated_images * 127.5) + 127.5\n",
        "\n",
        "    for i in range(num_img):\n",
        "        img = generated_images[i].numpy()\n",
        "        img = tf.keras.preprocessing.image.array_to_img(img)\n",
        "        img.save(\"generated_img_{labels_input}_{i}_{epoch}.png\".format(i=i, epoch=epoch, labels_input=labels_input[i]))"
      ],
      "metadata": {
        "id": "0Y7a0W_p5VWN"
      },
      "execution_count": null,
      "outputs": []
    },
    {
      "cell_type": "code",
      "source": [
        "def _train( g_model, d_model, cGAN_model, dataset, latent_dim, n_epochs=100, n_batch=128, save_every_epochs=10):\n",
        "    '''\n",
        "    g_model: generator model\n",
        "    d_model: discriminator model\n",
        "    cGAN_model: gan_model\n",
        "    dataset: dữ liệu huấn luyện, bao gồm: (X_train, y_train)\n",
        "    latent_dim: Số chiều của latent space\n",
        "    n_epochs: Số lượng epochs\n",
        "    n_batch: Kích thước batch_size\n",
        "    save_every_epochs: Số lượng epochs mà chúng ta sẽ save model.\n",
        "    '''\n",
        "    # Tính số lượng batch trên một epochs\n",
        "    batch_per_epoch = int(dataset[0].shape[0] / n_batch)\n",
        "    half_batch = int(n_batch / 2)\n",
        "    with tf.device('/GPU:0'):\n",
        "        # Huấn luyện mô hình qua từng epochs\n",
        "        for i in range(n_epochs):\n",
        "            print(i)\n",
        "            # Khởi tạo batch trên tập train\n",
        "            for j in range(batch_per_epoch):\n",
        "                    # 1. Huấn luyện model discrinator\n",
        "                    # Khởi tạo batch cho ảnh real ngẫu nhiên\n",
        "                    [X_real, labels_real], y_real = _generate_real_samples(dataset, half_batch)\n",
        "                    # Cập nhật discriminator model weights\n",
        "                    d_loss1, _ = d_model.train_on_batch([X_real, labels_real], y_real)\n",
        "                    # Khởi tạo batch cho ảnh fake ngẫu nhiên\n",
        "                    [X_fake, labels], y_fake = _generate_fake_samples(g_model, latent_dim, half_batch)\n",
        "                    # Cập nhật weights cho discriminator model\n",
        "                    d_loss2, _ = d_model.train_on_batch([X_fake, labels], y_fake)\n",
        "                    # 2. Huấn luyện model generator\n",
        "                    # Khởi tạo các điểm ngẫu nhiên trong latent space như là đầu vào cho generator\n",
        "                    [z_input, labels_input] = _generate_latent_points(latent_dim, n_batch)\n",
        "                    # Khởi tạo nhãn discriminator cho các dữ liệu fake. Do chúng ta giả định là generator đánh lừa được discriminator nên nhãn của ảnh là 1.\n",
        "                    y_gan = np.ones((n_batch, 1))\n",
        "                    # Huấn luyện generator thông qua model cGAN\n",
        "                    g_loss = cGAN_model.train_on_batch([z_input, labels_input], y_gan)\n",
        "\n",
        "            if (i % save_every_epochs) & (i > 0):\n",
        "                # summarize loss on this batch\n",
        "                print('>%d, /%d, d1=%.3f, d2=%.3f g=%.3f' % (i+1, batch_per_epoch, d_loss1, d_loss2, g_loss))\n",
        "                on_epoch_end(generator=g_model, num_img=3, latent_dim=latent_dim, epoch=n_epochs)\n",
        "                g_model.save('cGAN_generator_epoch{}.h5'.format(i))\n",
        "        # save the generator model\n",
        "        g_model.save('cGAN_generator.h5')"
      ],
      "metadata": {
        "id": "Qi4LB3yT0YDS"
      },
      "execution_count": null,
      "outputs": []
    },
    {
      "cell_type": "code",
      "source": [
        "(X_train, y_train), (X_test, y_test) = load_data()\n",
        "\n",
        "# Kích thước latent space\n",
        "latent_dim = 100\n",
        "\n",
        "# Khởi tạo generator, discriminator và cGAN model\n",
        "g_model = _generator()\n",
        "d_model = _discriminator()\n",
        "cGAN_model = _cGAN(g_model, d_model)\n",
        "\n",
        "# load image data\n",
        "dataset = _standardize_data(X_train, y_train)"
      ],
      "metadata": {
        "id": "YcnyB8VCnGin"
      },
      "execution_count": null,
      "outputs": []
    },
    {
      "cell_type": "code",
      "source": [
        "# train model\n",
        "_train(g_model, d_model, cGAN_model, dataset, latent_dim)"
      ],
      "metadata": {
        "colab": {
          "base_uri": "https://localhost:8080/"
        },
        "id": "12BRVHsI0Roq",
        "outputId": "7c42c760-a932-4106-d029-29409eab50ef"
      },
      "execution_count": null,
      "outputs": [
        {
          "output_type": "stream",
          "name": "stdout",
          "text": [
            "0\n",
            "1\n"
          ]
        },
        {
          "output_type": "stream",
          "name": "stderr",
          "text": [
            "WARNING:tensorflow:Compiled the loaded model, but the compiled metrics have yet to be built. `model.compile_metrics` will be empty until you train or evaluate the model.\n"
          ]
        },
        {
          "output_type": "stream",
          "name": "stdout",
          "text": [
            ">2, /468, d1=0.696, d2=0.726 g=0.771\n",
            "2\n"
          ]
        }
      ]
    },
    {
      "cell_type": "code",
      "source": [],
      "metadata": {
        "id": "EkUJdHOw6Ui_"
      },
      "execution_count": null,
      "outputs": []
    }
  ]
}